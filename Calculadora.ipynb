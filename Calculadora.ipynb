{
  "nbformat": 4,
  "nbformat_minor": 0,
  "metadata": {
    "colab": {
      "provenance": [],
      "mount_file_id": "1wFtESkfGRyVhTWwpMLY7roIxKZRFC53l",
      "authorship_tag": "ABX9TyP/VIs1GL1/VG9hYgTHR61+",
      "include_colab_link": true
    },
    "kernelspec": {
      "name": "python3",
      "display_name": "Python 3"
    },
    "language_info": {
      "name": "python"
    }
  },
  "cells": [
    {
      "cell_type": "markdown",
      "metadata": {
        "id": "view-in-github",
        "colab_type": "text"
      },
      "source": [
        "<a href=\"https://colab.research.google.com/github/elimadasilva/Calculadora/blob/main/Calculadora.ipynb\" target=\"_parent\"><img src=\"https://colab.research.google.com/assets/colab-badge.svg\" alt=\"Open In Colab\"/></a>"
      ]
    },
    {
      "cell_type": "code",
      "execution_count": 25,
      "metadata": {
        "colab": {
          "base_uri": "https://localhost:8080/"
        },
        "id": "2pJ1NLklNqjJ",
        "outputId": "cb0ee094-7864-4d14-f308-61ff07c18a7a"
      },
      "outputs": [
        {
          "output_type": "stream",
          "name": "stdout",
          "text": [
            "Bem vindo a Calculadora online!\n",
            " Escolha o valor da operação:\n",
            "(1)MATEMÁTICA\n",
            "(2)SUBTRAÇÃO\n",
            "(3)MULTIPLICAÇÃO\n",
            "(4)DIVISÃO\n",
            "10\n",
            "Digite o primeiro valor da operação:\n",
            "2\n",
            "Digite o segundo valor da operação:\n",
            "2\n",
            "Operação Invalida!\n"
          ]
        }
      ],
      "source": [
        "#Faça uma função calculadora de dois números com três parâmetros: os dois\n",
        "#primeiros serão os números da operação e o terceiro será a entrada que\n",
        "#definirá a operação a ser executada. Considera a seguinte definição:\n",
        "#1. Soma\n",
        "#2. Subtração\n",
        "#3. Multiplicação\n",
        "#4. Divisão\n",
        "#Caso seja inserido um número de operação que não exista, o resultado deverá ser 0.\n",
        "#Trabalhe esse código em seu IDE, suba ele para sua conta no GitHub e compartilhe o\n",
        "#link desse projeto no campo ao lado para que outros desenvolvedores possam analisá-lo.\n",
        "\n",
        "#Funções\n",
        "\n",
        "def calculadora(num1, num2, oper):\n",
        "  resultado = 0.00\n",
        "  if(oper == 1):\n",
        "     resultado = num1 + num2\n",
        "  elif (oper == 2):\n",
        "     resultado = num1 - num2\n",
        "  elif (oper == 3):\n",
        "     resultado = num1 * num2\n",
        "  elif (oper == 4):\n",
        "     resultado = num1 - num2\n",
        "  else:\n",
        "     resultado == 0\n",
        "\n",
        "  return resultado\n",
        "\n",
        "#main\n",
        "\n",
        "#variáveis\n",
        "\n",
        "operacao = int(input(\"Bem vindo a Calculadora online!\\n Escolha o valor da operação:\\n(1)MATEMÁTICA\\n(2)SUBTRAÇÃO\\n(3)MULTIPLICAÇÃO\\n(4)DIVISÃO\\n\"))\n",
        "numero1 =  float(input(\"Digite o primeiro valor da operação:\\n\"))\n",
        "numero2 =  float(input(\"Digite o segundo valor da operação:\\n\"))\n",
        "#inicio\n",
        "\n",
        "resultado = calculadora(numero1, numero2, operacao)\n",
        "\n",
        "if (resultado != 0):\n",
        "  print(\"Resultado:\",resultado)\n",
        "else:\n",
        "  print(\"Operação Invalida!\")\n",
        "\n"
      ]
    }
  ]
}